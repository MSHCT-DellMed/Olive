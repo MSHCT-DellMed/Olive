{
 "cells": [
  {
   "cell_type": "code",
   "execution_count": 1,
   "id": "2e1aaa5f",
   "metadata": {},
   "outputs": [],
   "source": [
    "import data_wrangler"
   ]
  },
  {
   "cell_type": "code",
   "execution_count": 2,
   "id": "97d18839",
   "metadata": {},
   "outputs": [],
   "source": [
    "dw = data_wrangler.DataWrangler()"
   ]
  },
  {
   "cell_type": "code",
   "execution_count": 3,
   "id": "28de949a",
   "metadata": {
    "scrolled": true
   },
   "outputs": [
    {
     "data": {
      "text/html": [
       "<div>\n",
       "<style scoped>\n",
       "    .dataframe tbody tr th:only-of-type {\n",
       "        vertical-align: middle;\n",
       "    }\n",
       "\n",
       "    .dataframe tbody tr th {\n",
       "        vertical-align: top;\n",
       "    }\n",
       "\n",
       "    .dataframe thead th {\n",
       "        text-align: right;\n",
       "    }\n",
       "</style>\n",
       "<table border=\"1\" class=\"dataframe\">\n",
       "  <thead>\n",
       "    <tr style=\"text-align: right;\">\n",
       "      <th></th>\n",
       "      <th>description</th>\n",
       "      <th>timestamp</th>\n",
       "      <th>csv_filename</th>\n",
       "    </tr>\n",
       "    <tr>\n",
       "      <th>id</th>\n",
       "      <th></th>\n",
       "      <th></th>\n",
       "      <th></th>\n",
       "    </tr>\n",
       "  </thead>\n",
       "  <tbody>\n",
       "    <tr>\n",
       "      <th>1</th>\n",
       "      <td>fffffffff</td>\n",
       "      <td>2022-02-11 16:52:54</td>\n",
       "      <td>Test spreadsheet - Sheet2.csv</td>\n",
       "    </tr>\n",
       "    <tr>\n",
       "      <th>2</th>\n",
       "      <td>kkkkkkkkk</td>\n",
       "      <td>2022-02-11 16:53:35</td>\n",
       "      <td>a random name.csv</td>\n",
       "    </tr>\n",
       "    <tr>\n",
       "      <th>3</th>\n",
       "      <td>hhhhhhh</td>\n",
       "      <td>2022-02-11 16:52:59</td>\n",
       "      <td>Test spreadsheet - Sheet2.csv</td>\n",
       "    </tr>\n",
       "    <tr>\n",
       "      <th>4</th>\n",
       "      <td>lllllll</td>\n",
       "      <td>2022-02-11 16:53:38</td>\n",
       "      <td>a random name.csv</td>\n",
       "    </tr>\n",
       "    <tr>\n",
       "      <th>5</th>\n",
       "      <td>jjjjjj</td>\n",
       "      <td>2022-02-11 16:53:58</td>\n",
       "      <td>Test spreadsheet - Sheet2.csv</td>\n",
       "    </tr>\n",
       "    <tr>\n",
       "      <th>6</th>\n",
       "      <td>mmmmmmm</td>\n",
       "      <td>2022-02-11 16:52:59</td>\n",
       "      <td>a random name.csv</td>\n",
       "    </tr>\n",
       "    <tr>\n",
       "      <th>7</th>\n",
       "      <td>dddddddd</td>\n",
       "      <td>2022-02-11 16:52:24</td>\n",
       "      <td>Sheet1.csv</td>\n",
       "    </tr>\n",
       "    <tr>\n",
       "      <th>8</th>\n",
       "      <td>nnnnnnnnn</td>\n",
       "      <td>2022-02-11 16:52:24</td>\n",
       "      <td>a random name.csv</td>\n",
       "    </tr>\n",
       "    <tr>\n",
       "      <th>9</th>\n",
       "      <td>eeeeeeee</td>\n",
       "      <td>2022-02-11 16:54:13</td>\n",
       "      <td>Sheet1.csv</td>\n",
       "    </tr>\n",
       "    <tr>\n",
       "      <th>10</th>\n",
       "      <td>oooooooo</td>\n",
       "      <td>2022-02-11 16:53:41</td>\n",
       "      <td>a random name.csv</td>\n",
       "    </tr>\n",
       "  </tbody>\n",
       "</table>\n",
       "</div>"
      ],
      "text/plain": [
       "   description           timestamp                   csv_filename\n",
       "id                                                               \n",
       "1    fffffffff 2022-02-11 16:52:54  Test spreadsheet - Sheet2.csv\n",
       "2    kkkkkkkkk 2022-02-11 16:53:35              a random name.csv\n",
       "3      hhhhhhh 2022-02-11 16:52:59  Test spreadsheet - Sheet2.csv\n",
       "4      lllllll 2022-02-11 16:53:38              a random name.csv\n",
       "5       jjjjjj 2022-02-11 16:53:58  Test spreadsheet - Sheet2.csv\n",
       "6      mmmmmmm 2022-02-11 16:52:59              a random name.csv\n",
       "7     dddddddd 2022-02-11 16:52:24                     Sheet1.csv\n",
       "8    nnnnnnnnn 2022-02-11 16:52:24              a random name.csv\n",
       "9     eeeeeeee 2022-02-11 16:54:13                     Sheet1.csv\n",
       "10    oooooooo 2022-02-11 16:53:41              a random name.csv"
      ]
     },
     "execution_count": 3,
     "metadata": {},
     "output_type": "execute_result"
    }
   ],
   "source": [
    "# to process the data, I'm specifying a specific path, as the notebook is running within the Olive folder already.\n",
    "dw.process_csv_files('./input/')"
   ]
  },
  {
   "cell_type": "code",
   "execution_count": 4,
   "id": "8f03704d",
   "metadata": {},
   "outputs": [],
   "source": [
    "dw.to_csv('./input/', filename='the_output_filename')"
   ]
  },
  {
   "cell_type": "code",
   "execution_count": null,
   "id": "6c25c2c0",
   "metadata": {},
   "outputs": [],
   "source": []
  }
 ],
 "metadata": {
  "kernelspec": {
   "display_name": "Python 3 (ipykernel)",
   "language": "python",
   "name": "python3"
  },
  "language_info": {
   "codemirror_mode": {
    "name": "ipython",
    "version": 3
   },
   "file_extension": ".py",
   "mimetype": "text/x-python",
   "name": "python",
   "nbconvert_exporter": "python",
   "pygments_lexer": "ipython3",
   "version": "3.9.7"
  }
 },
 "nbformat": 4,
 "nbformat_minor": 5
}
